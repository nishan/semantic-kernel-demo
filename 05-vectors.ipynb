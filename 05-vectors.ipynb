{
 "cells": [
  {
   "cell_type": "markdown",
   "id": "c29d225b",
   "metadata": {},
   "source": [
    "# Vector Databases\n",
    "\n",
    "#### Vector Databases stores 'semantic information' about assets, making it searchable by semantic features."
   ]
  },
  {
   "cell_type": "markdown",
   "id": "35e033ad",
   "metadata": {},
   "source": []
  },
  {
   "cell_type": "code",
   "execution_count": 12,
   "id": "0b2c885f",
   "metadata": {
    "vscode": {
     "languageId": "polyglot-notebook"
    }
   },
   "outputs": [
    {
     "data": {
      "text/html": [
       "<div><div></div><div></div><div><strong>Installed Packages</strong><ul><li><span>Microsoft.SemanticKernel, 1.45.0</span></li><li><span>Microsoft.SemanticKernel.Connectors.InMemory, 1.46.0-preview</span></li><li><span>Microsoft.SemanticKernel.Plugins.OpenApi, 1.45.0</span></li></ul></div></div>"
      ]
     },
     "metadata": {},
     "output_type": "display_data"
    }
   ],
   "source": [
    "#r \"nuget: Microsoft.SemanticKernel, 1.45.0\"\n",
    "#r \"nuget: Microsoft.SemanticKernel.Connectors.InMemory, 1.46.0-preview\"\n",
    "#r \"nuget: Microsoft.SemanticKernel.Plugins.OpenApi, 1.45.0\""
   ]
  },
  {
   "cell_type": "markdown",
   "id": "79773a37",
   "metadata": {},
   "source": [
    "##### First step, generate embeddings."
   ]
  },
  {
   "cell_type": "code",
   "execution_count": null,
   "id": "51fd4ea8",
   "metadata": {
    "vscode": {
     "languageId": "polyglot-notebook"
    }
   },
   "outputs": [],
   "source": [
    "using System.ComponentModel;\n",
    "using System.Threading;\n",
    "using Microsoft.SemanticKernel;\n",
    "using Microsoft.SemanticKernel.ChatCompletion;\n",
    "using Microsoft.SemanticKernel.Connectors.OpenAI;\n",
    "using Microsoft.SemanticKernel.Embeddings;\n",
    "using Kernel = Microsoft.SemanticKernel.Kernel;\n",
    "#!import config/Settings.cs \n",
    "\n",
    "var (useAzureOpenAI, model, azureEndpoint, apiKey, orgId) = Settings.LoadFromFile();\n",
    "\n",
    "#pragma warning disable SKEXP0010\n",
    "#pragma warning disable SKEXP0001\n",
    "IKernelBuilder builder = Kernel.CreateBuilder();\n",
    "builder.AddOpenAITextEmbeddingGeneration(\n",
    "    modelId: \"text-embedding-3-small\",         \n",
    "    apiKey: apiKey,                  \n",
    "    orgId: orgId       \n",
    ");\n",
    "builder.AddOpenAIChatCompletion(model, apiKey, orgId);\n",
    "Kernel kernel = builder.Build();\n",
    "ITextEmbeddingGenerationService  textEmbeddingGenerationService = kernel.GetRequiredService<ITextEmbeddingGenerationService>();\n",
    "\n",
    "string transcriptText1 = \"Customer: I want to return this shoes. It is not color I ordered.\";\n",
    "var embeddings1 = await textEmbeddingGenerationService.GenerateEmbeddingAsync(transcriptText1, kernel, CancellationToken.None);\n",
    "Transcript transcript1 = new Transcript\n",
    "{\n",
    "    TranscriptId = 1,\n",
    "    TranscriptText = transcriptText1,\n",
    "    TranscriptTextEmbedding = embeddings1\n",
    "};\n",
    "\n",
    "\n",
    "\n",
    "string transcriptText2 = \"Customer: I would like to speak to a supervisor please. I am not satisfied with the service.\";\n",
    "var embeddings2 = await textEmbeddingGenerationService.GenerateEmbeddingAsync(transcriptText2, kernel, CancellationToken.None);\n",
    "Transcript transcript2 = new Transcript\n",
    "{\n",
    "    TranscriptId = 2,\n",
    "    TranscriptText = transcriptText2,\n",
    "    TranscriptTextEmbedding = embeddings2\n",
    "};\n",
    "\n",
    "\n",
    "class Transcript\n",
    "{\n",
    "    public ulong TranscriptId { get; set; }\n",
    "    public string TranscriptText { get; set; }\n",
    "    public ReadOnlyMemory<float> TranscriptTextEmbedding { get; set; }\n",
    "}\n"
   ]
  },
  {
   "cell_type": "markdown",
   "id": "81b5c948",
   "metadata": {},
   "source": [
    "##### Now, we can bring in a vector store."
   ]
  },
  {
   "cell_type": "code",
   "execution_count": 40,
   "id": "362b11eb",
   "metadata": {
    "vscode": {
     "languageId": "polyglot-notebook"
    }
   },
   "outputs": [],
   "source": [
    "using Microsoft.SemanticKernel.Connectors.InMemory;\n",
    "using Microsoft.SemanticKernel.Memory;\n",
    "using Microsoft.Extensions.VectorData;\n",
    "\n",
    "// Use InMemoryVectorStore for local testing. \n",
    "// For production, use a persistent vector store like QDrant, Vespa, or Pinecone.\n",
    "var vectorStore = new InMemoryVectorStore(); \n",
    "\n",
    "var transcriptDefinition = new VectorStoreRecordDefinition\n",
    "{\n",
    "    Properties = new List<VectorStoreRecordProperty>\n",
    "    {\n",
    "        new VectorStoreRecordKeyProperty(\"TranscriptId\", typeof(ulong)),\n",
    "        new VectorStoreRecordDataProperty(\"TranscriptText\", typeof(string)) { IsFullTextSearchable = true },\n",
    "        new VectorStoreRecordVectorProperty(\"TranscriptTextEmbedding\", typeof(ReadOnlyMemory<float>)) { Dimensions = 4, DistanceFunction = DistanceFunction.CosineSimilarity, IndexKind = IndexKind.Hnsw },\n",
    "    }\n",
    "};\n",
    "IVectorStoreRecordCollection<ulong, Transcript> collection = vectorStore.GetCollection<ulong, Transcript>(\"Transcripts\", transcriptDefinition);\n",
    "\n",
    "await collection.CreateCollectionIfNotExistsAsync(\n",
    "    CancellationToken.None\n",
    ");\n",
    "\n",
    "\n",
    "collection.UpsertAsync(transcript1,\n",
    "    CancellationToken.None\n",
    ");\n",
    "\n",
    "collection.UpsertAsync(transcript2,\n",
    "    CancellationToken.None\n",
    ");\n",
    "\n",
    "\n"
   ]
  },
  {
   "cell_type": "markdown",
   "id": "f7cfa43b",
   "metadata": {},
   "source": [
    "##### Now, let's search"
   ]
  },
  {
   "cell_type": "code",
   "execution_count": 41,
   "id": "3c15a9a1",
   "metadata": {
    "vscode": {
     "languageId": "polyglot-notebook"
    }
   },
   "outputs": [
    {
     "name": "stdout",
     "output_type": "stream",
     "text": [
      "TranscriptId: 2\n",
      "TranscriptText: Customer: I would like to speak to a supervisor please. I am not satisfied with the service.\n"
     ]
    }
   ],
   "source": [
    "var searchKey = \"I am looking for the transcript where customer wants to talk to a manager\";\n",
    "\n",
    "ReadOnlyMemory<float> searchVector = await textEmbeddingGenerationService.GenerateEmbeddingAsync(\n",
    "    searchKey, kernel, CancellationToken.None);\n",
    "\n",
    "var searchResult = await collection.VectorizedSearchAsync(\n",
    "    searchVector,\n",
    "    new() { Top = 1 }, // number of results to return\n",
    "    CancellationToken.None\n",
    ");\n",
    "\n",
    "await foreach (var result in searchResult.Results)\n",
    "{\n",
    "    Console.WriteLine($\"TranscriptId: {result.Record.TranscriptId}\");\n",
    "    Console.WriteLine($\"TranscriptText: {result.Record.TranscriptText}\");\n",
    "  \n",
    "}"
   ]
  },
  {
   "cell_type": "markdown",
   "id": "9f1cbb69",
   "metadata": {},
   "source": [
    "##### Next, RAG!\n",
    "\n",
    "##### Make your vector store available to your model through plugins or function-calling"
   ]
  },
  {
   "cell_type": "code",
   "execution_count": 44,
   "id": "fcbfbec5",
   "metadata": {
    "vscode": {
     "languageId": "polyglot-notebook"
    }
   },
   "outputs": [
    {
     "name": "stdout",
     "output_type": "stream",
     "text": [
      "I'm currently unable to retrieve specific search results for why customers return items. However, I can provide general insights: \n",
      "\n",
      "1. **Defective Product**: Items that are damaged or not functioning as advertised can prompt returns.\n",
      "2. **Incorrect Size/Color**: Discrepancies in size, color, or product specifications often lead to returns, especially in fashion.\n",
      "3. **Changed Mind**: Customers may simply decide they no longer want the product after purchasing.\n",
      "4. **Better Price Found Elsewhere**: Finding the same product for a lower price can result in a return.\n",
      "5. **Wrong Item Delivered**: Mistakes in the shipping process can cause customers to return items.\n",
      "6. **Poor Quality**: Items not meeting quality expectations may be returned by the customer.\n",
      "7. **Expectation Mismatch**: If the product does not meet the customer's expectations based on the description or images, they might return it.\n",
      "\n",
      "If you need more detailed or specific reasons, let me know, and I can try searching again or provide additional context.\r\n"
     ]
    }
   ],
   "source": [
    "// Add code to create instances of IVectorStoreRecordCollection and ITextEmbeddingGenerationService\n",
    "using Microsoft.SemanticKernel.Data;\n",
    "#pragma warning disable SKEXP0010\n",
    "#pragma warning disable SKEXP0001\n",
    "\n",
    "// Create a text search instance using the vector store record collection.\n",
    "//var textSearch = new VectorStoreTextSearch<Transcript>(collection, textEmbeddingGenerationService);\n",
    "\n",
    "// Build a text search plugin with vector store search and add to the kernel\n",
    "//var searchPlugin = textSearch.CreateWithGetTextSearchResults(\"SearchPlugin\");\n",
    "//kernel.Plugins.Add(searchPlugin);\n",
    "\n",
    "// Invoke prompt and use text search plugin to provide grounding information\n",
    "OpenAIPromptExecutionSettings settings = new() { FunctionChoiceBehavior = FunctionChoiceBehavior.Auto() };\n",
    "KernelArguments arguments = new(settings);\n",
    "Console.WriteLine(await kernel.InvokePromptAsync(\"Why does customer want to return items?\", arguments));"
   ]
  }
 ],
 "metadata": {
  "kernelspec": {
   "display_name": ".NET (C#)",
   "language": "C#",
   "name": ".net-csharp"
  },
  "language_info": {
   "name": "python"
  },
  "polyglot_notebook": {
   "kernelInfo": {
    "defaultKernelName": "csharp",
    "items": [
     {
      "aliases": [],
      "name": "csharp"
     }
    ]
   }
  }
 },
 "nbformat": 4,
 "nbformat_minor": 5
}
