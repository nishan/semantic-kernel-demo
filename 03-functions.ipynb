{
 "cells": [
  {
   "cell_type": "markdown",
   "id": "3c07d5fc",
   "metadata": {},
   "source": [
    "# Plugins"
   ]
  },
  {
   "cell_type": "code",
   "execution_count": null,
   "id": "de1cd2c7",
   "metadata": {
    "polyglot_notebook": {
     "kernelName": "csharp"
    },
    "vscode": {
     "languageId": "polyglot-notebook"
    }
   },
   "outputs": [],
   "source": [
    "#r \"nuget: Microsoft.SemanticKernel, 1.45.0\"\n",
    "#r \"nuget: Microsoft.SemanticKernel.PromptTemplates.Handlebars, 1.45.0\"\n",
    "#r \"nuget: Microsoft.SemanticKernel.Yaml, 1.45.0\"\n",
    "#r \"nuget: Microsoft.SemanticKernel.Plugins.OpenApi, 1.45.0\""
   ]
  },
  {
   "cell_type": "markdown",
   "id": "b3a7afa9",
   "metadata": {},
   "source": [
    "##### Plugins can be used to expose functionality to your model. This works well, when you already have an application built out, and would like to add AI to the app."
   ]
  },
  {
   "cell_type": "code",
   "execution_count": 3,
   "id": "52c28379",
   "metadata": {
    "polyglot_notebook": {
     "kernelName": "csharp"
    },
    "vscode": {
     "languageId": "polyglot-notebook"
    }
   },
   "outputs": [],
   "source": [
    "using System.ComponentModel;\n",
    "using Microsoft.SemanticKernel;\n",
    "\n",
    "public class MathFunctions\n",
    "{\n",
    "    [KernelFunction, Description(\"Calculates the square of a number.\")]\n",
    "    public static double square ([Description(\"The number to calculate square of\")] double x)\n",
    "    {\n",
    "        return x * x;\n",
    "    }\n",
    "\n",
    "    [KernelFunction, Description(\"Calculates the cube of a number.\")]\n",
    "    public static double cube ([Description(\"The number to calculate cube of\")] double x)\n",
    "    {\n",
    "        return x * x * x;\n",
    "    }\n",
    "}\n",
    "\n",
    " public class TimeInformation\n",
    "{\n",
    "    [KernelFunction]\n",
    "    [Description(\"Retrieves the current time in UTC.\")]\n",
    "    public string GetCurrentUtcTime() => DateTime.UtcNow.ToString(\"R\");\n",
    "}"
   ]
  },
  {
   "cell_type": "markdown",
   "id": "48565bce",
   "metadata": {},
   "source": [
    "Let us have LLM utilize the functions"
   ]
  },
  {
   "cell_type": "code",
   "execution_count": null,
   "id": "d255a68f",
   "metadata": {
    "polyglot_notebook": {
     "kernelName": "csharp"
    },
    "vscode": {
     "languageId": "polyglot-notebook"
    }
   },
   "outputs": [],
   "source": [
    "using Microsoft.SemanticKernel;\n",
    "using Microsoft.Extensions.Logging;\n",
    "using Microsoft.Extensions.Logging.Abstractions;\n",
    "using Microsoft.Extensions.DependencyInjection;\n",
    "using Microsoft.SemanticKernel.Connectors.OpenAI;\n",
    "using Kernel = Microsoft.SemanticKernel.Kernel;\n",
    "\n",
    "\n",
    "#!import config/Settings.cs \n",
    "\n",
    "var (useAzureOpenAI, model, azureEndpoint, apiKey, orgId) = Settings.LoadFromFile();\n",
    "ILoggerFactory myLoggerFactory = NullLoggerFactory.Instance;\n",
    "var builder = Kernel.CreateBuilder();\n",
    "builder.Services.AddSingleton(myLoggerFactory); //Add logging!\n",
    "builder.AddOpenAIChatCompletion(model, apiKey, orgId);\n",
    "var kernel = builder.Build();\n",
    "#pragma warning disable SKEXP0001 \n",
    "// Lets the model choose the function to call based on the prompt\n",
    "OpenAIPromptExecutionSettings settings = new() { FunctionChoiceBehavior = FunctionChoiceBehavior.Auto() };\n",
    "\n",
    "// We import the MathFunctions class to the kernel\n",
    "// This will allow us to use the functions defined in the class\n",
    "kernel.Plugins.AddFromType<MathFunctions>();\n",
    "kernel.Plugins.AddFromType<TimeInformation>();\n",
    "\n",
    "Console.WriteLine ( await kernel.InvokePromptAsync(\"What is the square of 25\", new (settings)) );\n",
    "Console.WriteLine ( await kernel.InvokePromptAsync(\"How many days until Christmas. Explain your thinking\", new (settings)) );\n"
   ]
  },
  {
   "cell_type": "markdown",
   "id": "27621613",
   "metadata": {},
   "source": [
    "#### What if you have a service you need to use to supply functionality? You can use OpenAPI!"
   ]
  },
  {
   "cell_type": "code",
   "execution_count": null,
   "id": "24a95ae1",
   "metadata": {
    "polyglot_notebook": {
     "kernelName": "csharp"
    },
    "vscode": {
     "languageId": "polyglot-notebook"
    }
   },
   "outputs": [],
   "source": [
    "using Microsoft.SemanticKernel;\n",
    "using Microsoft.Extensions.Logging;\n",
    "using Microsoft.Extensions.Logging.Abstractions;\n",
    "using Microsoft.Extensions.DependencyInjection;\n",
    "using Microsoft.SemanticKernel.Connectors.OpenAI;\n",
    "using Kernel = Microsoft.SemanticKernel.Kernel;\n",
    "\n",
    "\n",
    "#!import config/Settings.cs \n",
    "\n",
    "var (useAzureOpenAI, model, azureEndpoint, apiKey, orgId) = Settings.LoadFromFile();\n",
    "ILoggerFactory myLoggerFactory = NullLoggerFactory.Instance;\n",
    "var builder = Kernel.CreateBuilder();\n",
    "builder.AddOpenAIChatCompletion(model, apiKey, orgId);\n",
    "var kernel = builder.Build();\n",
    "\n",
    "var stream = File.OpenRead(\"resources/api/repairs.json\");\n",
    "var plugin = await kernel.ImportPluginFromOpenApiAsync(\"RepairService\", stream!);\n",
    "\n",
    "// This will allow us to use the functions defined in the class\n",
    "Console.WriteLine ( await kernel.InvokePromptAsync(\"Can you get me a list of all repairs?\", new (settings)) );"
   ]
  }
 ],
 "metadata": {
  "kernelspec": {
   "display_name": ".NET (C#)",
   "language": "C#",
   "name": ".net-csharp"
  },
  "language_info": {
   "name": "python"
  },
  "polyglot_notebook": {
   "kernelInfo": {
    "defaultKernelName": "csharp",
    "items": [
     {
      "aliases": [],
      "name": "csharp"
     }
    ]
   }
  }
 },
 "nbformat": 4,
 "nbformat_minor": 5
}
