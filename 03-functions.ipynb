{
 "cells": [
  {
   "cell_type": "markdown",
   "id": "3c07d5fc",
   "metadata": {},
   "source": [
    "# Plugins"
   ]
  },
  {
   "cell_type": "markdown",
   "id": "c0afddeb",
   "metadata": {},
   "source": [
    "### C# Native Functions"
   ]
  },
  {
   "cell_type": "code",
   "execution_count": null,
   "id": "de1cd2c7",
   "metadata": {
    "polyglot_notebook": {
     "kernelName": "csharp"
    },
    "vscode": {
     "languageId": "polyglot-notebook"
    }
   },
   "outputs": [
    {
     "data": {
      "text/html": [
       "<div><div></div><div></div><div><strong>Installed Packages</strong><ul><li><span>Microsoft.SemanticKernel, 1.45.0</span></li><li><span>Microsoft.SemanticKernel.PromptTemplates.Handlebars, 1.45.0</span></li><li><span>Microsoft.SemanticKernel.Yaml, 1.45.0</span></li></ul></div></div>"
      ]
     },
     "metadata": {},
     "output_type": "display_data"
    }
   ],
   "source": [
    "#r \"nuget: Microsoft.SemanticKernel, 1.45.0\"\n",
    "#r \"nuget: Microsoft.SemanticKernel.PromptTemplates.Handlebars, 1.45.0\"\n",
    "#r \"nuget: Microsoft.SemanticKernel.Yaml, 1.45.0\"\n",
    "#r \"nuget: Microsoft.SemanticKernel.Plugins.OpenApi, 1.45.0\""
   ]
  },
  {
   "cell_type": "markdown",
   "id": "b3a7afa9",
   "metadata": {},
   "source": [
    "##### C# functions can be used to expose functionality to your model. This works well, when you already have an application built out, and would like to add AI to the app."
   ]
  },
  {
   "cell_type": "code",
   "execution_count": 31,
   "id": "52c28379",
   "metadata": {
    "polyglot_notebook": {
     "kernelName": "csharp"
    },
    "vscode": {
     "languageId": "polyglot-notebook"
    }
   },
   "outputs": [],
   "source": [
    "using System.ComponentModel;\n",
    "\n",
    "public class MathFunctions\n",
    "{\n",
    "    [KernelFunction, Description(\"Calculates the square of a number.\")]\n",
    "    public static double square ([Description(\"The number to calculate square of\")] double x)\n",
    "    {\n",
    "        return x * x;\n",
    "    }\n",
    "\n",
    "    [KernelFunction, Description(\"Calculates the cube of a number.\")]\n",
    "    public static double cube ([Description(\"The number to calculate cube of\")] double x)\n",
    "    {\n",
    "        return x * x * x;\n",
    "    }\n",
    "}\n",
    "\n",
    " public class TimeInformation\n",
    "    {\n",
    "        [KernelFunction]\n",
    "        [Description(\"Retrieves the current time in UTC.\")]\n",
    "        public string GetCurrentUtcTime() => DateTime.UtcNow.ToString(\"R\");\n",
    "    }"
   ]
  },
  {
   "cell_type": "code",
   "execution_count": 41,
   "id": "d255a68f",
   "metadata": {
    "polyglot_notebook": {
     "kernelName": "csharp"
    },
    "vscode": {
     "languageId": "polyglot-notebook"
    }
   },
   "outputs": [
    {
     "name": "stdout",
     "output_type": "stream",
     "text": [
      "The square of 25 is 625.\n",
      "Today is April 24, 2025. Christmas is on December 25th, 2025.\n",
      "\n",
      "To find out how many days are left until Christmas, we will count the days from April 24 to December 25 within the same year.\n",
      "\n",
      "Here is the breakdown:\n",
      "- April 24 to April 30: 6 days\n",
      "- Full months from May to November: 7 months (31 days for May, 30 for June, 31 for July, 31 for August, 30 for September, 31 for October, and 30 for November). That's 214 days.\n",
      "- December 1 to December 25: 25 days\n",
      "\n",
      "Calculating the total: 6 (days in April) + 214 (days from May to November) + 25 (days in December) = 245 days.\n",
      "\n",
      "Thus, there are 245 days remaining until Christmas.\n"
     ]
    }
   ],
   "source": [
    "using Microsoft.SemanticKernel;\n",
    "using Microsoft.Extensions.Logging;\n",
    "using Microsoft.Extensions.Logging.Abstractions;\n",
    "using Microsoft.Extensions.DependencyInjection;\n",
    "using Microsoft.SemanticKernel.Connectors.OpenAI;\n",
    "using Kernel = Microsoft.SemanticKernel.Kernel;\n",
    "\n",
    "\n",
    "#!import config/Settings.cs \n",
    "\n",
    "var (useAzureOpenAI, model, azureEndpoint, apiKey, orgId) = Settings.LoadFromFile();\n",
    "ILoggerFactory myLoggerFactory = NullLoggerFactory.Instance;\n",
    "var builder = Kernel.CreateBuilder();\n",
    "builder.Services.AddSingleton(myLoggerFactory); //Add logging!\n",
    "builder.AddOpenAIChatCompletion(model, apiKey, orgId);\n",
    "var kernel = builder.Build();\n",
    "#pragma warning disable SKEXP0001 \n",
    "// Lets the model choose the function to call based on the prompt\n",
    "OpenAIPromptExecutionSettings settings = new() { FunctionChoiceBehavior = FunctionChoiceBehavior.Auto() };\n",
    "\n",
    "// We import the MathFunctions class to the kernel\n",
    "// This will allow us to use the functions defined in the class\n",
    "kernel.Plugins.AddFromType<MathFunctions>();\n",
    "kernel.Plugins.AddFromType<TimeInformation>();\n",
    "\n",
    "Console.WriteLine ( await kernel.InvokePromptAsync(\"What is the square of 25\", new (settings)) );\n",
    "Console.WriteLine ( await kernel.InvokePromptAsync(\"How many days until Christmas. Explain your thinking\", new (settings)) );\n"
   ]
  },
  {
   "cell_type": "markdown",
   "id": "27621613",
   "metadata": {},
   "source": [
    "#### What if you have a service you need to use to supply functionality? You can use OpenAPI!"
   ]
  },
  {
   "cell_type": "code",
   "execution_count": 7,
   "id": "24a95ae1",
   "metadata": {
    "polyglot_notebook": {
     "kernelName": "csharp"
    },
    "vscode": {
     "languageId": "polyglot-notebook"
    }
   },
   "outputs": [
    {
     "ename": "Error",
     "evalue": "(8,27): error CS1061: 'Kernel' does not contain a definition for 'ImportPluginFromOpenApiAsync' and no accessible extension method 'ImportPluginFromOpenApiAsync' accepting a first argument of type 'Kernel' could be found (are you missing a using directive or an assembly reference?)",
     "output_type": "error",
     "traceback": [
      "(8,27): error CS1061: 'Kernel' does not contain a definition for 'ImportPluginFromOpenApiAsync' and no accessible extension method 'ImportPluginFromOpenApiAsync' accepting a first argument of type 'Kernel' could be found (are you missing a using directive or an assembly reference?)"
     ]
    }
   ],
   "source": [
    "using Microsoft.SemanticKernel;\n",
    "using Microsoft.Extensions.Logging;\n",
    "using Microsoft.Extensions.Logging.Abstractions;\n",
    "using Microsoft.Extensions.DependencyInjection;\n",
    "using Microsoft.SemanticKernel.Connectors.OpenAI;\n",
    "using Kernel = Microsoft.SemanticKernel.Kernel;\n",
    "\n",
    "\n",
    "#!import config/Settings.cs \n",
    "\n",
    "var (useAzureOpenAI, model, azureEndpoint, apiKey, orgId) = Settings.LoadFromFile();\n",
    "ILoggerFactory myLoggerFactory = NullLoggerFactory.Instance;\n",
    "var builder = Kernel.CreateBuilder();\n",
    "builder.AddOpenAIChatCompletion(model, apiKey, orgId);\n",
    "var kernel = builder.Build();\n",
    "\n",
    "var stream = File.OpenRead(\"resources/api/repairs.json\");\n",
    "var plugin = await kernel.ImportPluginFromOpenApiAsync(\"RepairService\", stream!);\n",
    "\n",
    "kernel.Plugins.Add(plugin);"
   ]
  }
 ],
 "metadata": {
  "kernelspec": {
   "display_name": ".NET (C#)",
   "language": "C#",
   "name": ".net-csharp"
  },
  "language_info": {
   "name": "python"
  },
  "polyglot_notebook": {
   "kernelInfo": {
    "defaultKernelName": "csharp",
    "items": [
     {
      "aliases": [],
      "name": "csharp"
     }
    ]
   }
  }
 },
 "nbformat": 4,
 "nbformat_minor": 5
}
