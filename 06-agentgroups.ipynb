{
 "cells": [
  {
   "cell_type": "markdown",
   "id": "f916b8fb",
   "metadata": {},
   "source": [
    "# Agent Groups\n",
    "\n",
    "#### Create group of agents who can collaborate on a task\n",
    "#### Agents can be added to a group, and strategies for engagement can be provided."
   ]
  },
  {
   "cell_type": "code",
   "execution_count": 2,
   "id": "43816090",
   "metadata": {
    "polyglot_notebook": {
     "kernelName": "csharp"
    },
    "vscode": {
     "languageId": "polyglot-notebook"
    }
   },
   "outputs": [
    {
     "data": {
      "text/html": [
       "<div><div></div><div></div><div><strong>Installed Packages</strong><ul><li><span>Microsoft.SemanticKernel, 1.45.0</span></li><li><span>Microsoft.SemanticKernel.Agents.Core, 1.45.0</span></li><li><span>Microsoft.SemanticKernel.Plugins.OpenApi, 1.45.0</span></li></ul></div></div>"
      ]
     },
     "metadata": {},
     "output_type": "display_data"
    }
   ],
   "source": [
    "#r \"nuget: Microsoft.SemanticKernel, 1.45.0\"\n",
    "#r \"nuget: Microsoft.SemanticKernel.Plugins.OpenApi, 1.45.0\"\n",
    "#r \"nuget: Microsoft.SemanticKernel.Agents.Core, 1.45.0\""
   ]
  },
  {
   "cell_type": "code",
   "execution_count": null,
   "id": "d910ec5b",
   "metadata": {
    "polyglot_notebook": {
     "kernelName": "csharp"
    },
    "vscode": {
     "languageId": "polyglot-notebook"
    }
   },
   "outputs": [],
   "source": [
    "using System.ComponentModel;\n",
    "using Microsoft.SemanticKernel;\n",
    "using Microsoft.SemanticKernel.ChatCompletion;\n",
    "using Microsoft.SemanticKernel.Agents;\n",
    "using Microsoft.SemanticKernel.Connectors.OpenAI;\n",
    "using Kernel = Microsoft.SemanticKernel.Kernel;\n",
    "using Microsoft.SemanticKernel.Agents.Chat;\n",
    "using System.Threading;\n",
    "\n",
    "#!import config/Settings.cs \n",
    "#pragma warning disable SKEXP0110 \n",
    "#pragma warning disable SKEXP0001\n",
    "\n",
    "var (useAzureOpenAI, model, azureEndpoint, apiKey, orgId) = Settings.LoadFromFile();\n",
    "\n",
    "// Define the agent names for use in the function template\n",
    "const string WriterName = \"Writer\";\n",
    "const string ReviewerName = \"Reviewer\";\n",
    "\n",
    "// Initialize a Kernel with a chat-completion service\n",
    "var builder = Kernel.CreateBuilder();\n",
    "builder.AddOpenAIChatCompletion(model, apiKey, orgId);\n",
    "Kernel kernel = builder.Build();\n",
    "\n",
    "// Create the agents\n",
    "ChatCompletionAgent writerAgent =\n",
    "    new()\n",
    "    {\n",
    "        Name = WriterName,\n",
    "        Instructions = \"Write a proposal for a talk on Semantic Kernel.\",\n",
    "        Kernel = kernel\n",
    "    };\n",
    "\n",
    "ChatCompletionAgent reviewerAgent =\n",
    "    new()\n",
    "    {\n",
    "        Name = ReviewerName,\n",
    "        Instructions = \"\"\"\n",
    "                You will review the proposal and provide feedback.\n",
    "                Following are the conditions for the proposal:\n",
    "                   1. Proposal should be no more than 50 words.\n",
    "                   2. Proposal should contain the term 'AI Overload' at least once.                \n",
    "                If the proposal does not meet the conditions, provide the improvement suggestion and ask for a revision. Provide only one improvement suggestion at a time. \n",
    "                Only if the proposal meets all above conditions, say 'Looks good' and approve it. \n",
    "            \"\"\",\n",
    "\n",
    "        Kernel = kernel\n",
    "    };\n",
    "\n",
    "// Create a chat using the defined selection strategy.\n",
    "AgentGroupChat chat =\n",
    "    new(writerAgent, reviewerAgent)\n",
    "    {\n",
    "        ExecutionSettings = new() { TerminationStrategy = \n",
    "            new ApprovalTerminationStrategy()\n",
    "            {\n",
    "                Agents = [reviewerAgent],\n",
    "                MaximumIterations = 10,\n",
    "            }\n",
    "        }\n",
    "    };\n",
    "\n",
    "    await foreach (var content in chat.InvokeAsync())\n",
    "    {\n",
    "        // Print the chat messages to the console\n",
    "        Console.WriteLine($\"{content.AuthorName} says -> \");\n",
    "        Console.WriteLine($\"{content.Content}\");\n",
    "        Console.WriteLine(\"*************** END OF MESSAGE ***************\\n\");\n",
    "    }\n",
    "\n",
    "    chat.\n",
    "\n",
    "\n",
    "   class ApprovalTerminationStrategy : TerminationStrategy\n",
    "   {       \n",
    "       protected override Task<bool> ShouldAgentTerminateAsync(Agent agent, IReadOnlyList<ChatMessageContent> messages, CancellationToken cancellationToken)\n",
    "       {\n",
    "           return Task.FromResult(messages[^1].Content.Contains(\"Looks good\"));\n",
    "       }\n",
    "   }\n",
    "\n"
   ]
  }
 ],
 "metadata": {
  "kernelspec": {
   "display_name": ".NET (C#)",
   "language": "C#",
   "name": ".net-csharp"
  },
  "language_info": {
   "name": "python"
  },
  "polyglot_notebook": {
   "kernelInfo": {
    "defaultKernelName": "csharp",
    "items": [
     {
      "aliases": [],
      "name": "csharp"
     }
    ]
   }
  }
 },
 "nbformat": 4,
 "nbformat_minor": 5
}
