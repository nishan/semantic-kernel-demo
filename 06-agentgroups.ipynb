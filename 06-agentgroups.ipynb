{
 "cells": [
  {
   "cell_type": "markdown",
   "id": "f916b8fb",
   "metadata": {},
   "source": [
    "# Agent Groups\n",
    "\n",
    "#### Create group of agents who can collaborate on a task\n",
    "#### Agents can be added to a group, and strategies for engagement can be provided."
   ]
  },
  {
   "cell_type": "code",
   "execution_count": 4,
   "id": "43816090",
   "metadata": {
    "vscode": {
     "languageId": "polyglot-notebook"
    }
   },
   "outputs": [
    {
     "data": {
      "text/html": [
       "<div><div></div><div></div><div><strong>Installed Packages</strong><ul><li><span>Microsoft.SemanticKernel, 1.45.0</span></li><li><span>Microsoft.SemanticKernel.Agents.Core, 1.45.0</span></li><li><span>Microsoft.SemanticKernel.Plugins.OpenApi, 1.45.0</span></li><li><span>Microsoft.SemanticKernel.PromptTemplates.Handlebars, 1.45.0</span></li><li><span>Microsoft.SemanticKernel.Yaml, 1.45.0</span></li></ul></div></div>"
      ]
     },
     "metadata": {},
     "output_type": "display_data"
    }
   ],
   "source": [
    "#r \"nuget: Microsoft.SemanticKernel, 1.45.0\"\n",
    "#r \"nuget: Microsoft.SemanticKernel.PromptTemplates.Handlebars, 1.45.0\"\n",
    "#r \"nuget: Microsoft.SemanticKernel.Yaml, 1.45.0\"\n",
    "#r \"nuget: Microsoft.SemanticKernel.Plugins.OpenApi, 1.45.0\"\n",
    "#r \"nuget: Microsoft.SemanticKernel.Agents.Core, 1.45.0\""
   ]
  },
  {
   "cell_type": "code",
   "execution_count": null,
   "id": "d910ec5b",
   "metadata": {
    "vscode": {
     "languageId": "polyglot-notebook"
    }
   },
   "outputs": [
    {
     "name": "stdout",
     "output_type": "stream",
     "text": [
      "--- Writer --> \n",
      " Title: Unleashing the Power of Semantic Kernel: Revolutionizing Natural Language Processing \n",
      "\n",
      "Abstract:\n",
      "As the realm of Natural Language Processing (NLP) continues to evolve, the need for more intuitive and context-aware systems has become increasingly crucial. Semantic Kernel offers a groundbreaking approach that enhances the way machines understand and interact with human language by integrating semantic understanding at a core computational level. This talk aims to explore the profound capabilities of Semantic Kernel, its implementation, and its impact on modern NLP applications.\n",
      "\n",
      "Overview:\n",
      "In this talk, we will dive deep into the mechanics and applications of Semantic Kernel, a transformative concept designed to bolster the semantic understanding of language models. Attendees will gain insights into how Semantic Kernel operates, the challenges it addresses in traditional NLP, and the substantial benefits of adopting this approach in various technological domains.\n",
      "\n",
      "Objectives:\n",
      "1. Introduce the concept of Semantic Kernel and provide a comprehensive understanding of its architecture.\n",
      "2. Highlight the limitations of existing NLP systems and how Semantic Kernel overcomes these challenges.\n",
      "3. Demonstrate practical applications and real-world case studies where Semantic Kernel has been successfully implemented.\n",
      "4. Discuss future prospects and developments in Semantic Kernel and its potential to reshape the landscape of AI-driven language comprehension.\n",
      "\n",
      "Key Topics:\n",
      "- Understanding Semantic Kernel: Definition, Design, and Implementation\n",
      "- Bridging the Gap: Overcoming Traditional NLP Limitations with Semantic Kernel\n",
      "- Real-World Applications: Revolutionizing Search Engines, AI Assistants, and Beyond\n",
      "- Challenges and Limitations: Addressing Concerns in Adopting Semantic Kernel\n",
      "- Future Directions: Expanding Semantic Kernel Capabilities and Integrations\n",
      "\n",
      "Target Audience:\n",
      "This talk is beneficial for NLP researchers, AI developers, linguists, data scientists, and technology enthusiasts interested in the next frontier of language processing technology. No prior experience with Semantic Kernel is required, making it accessible to a broad audience interested in cutting-edge NLP solutions.\n",
      "\n",
      "Duration:\n",
      "The proposed duration for the talk is 60 minutes, including a 45-minute presentation followed by a 15-minute Q&A session to foster interaction and address specific queries.\n",
      "\n",
      "Speaker's Bio:\n",
      "[Your Name] is an [AI Specialist/NLP Researcher/Software Engineer] with extensive experience in developing and implementing advanced language models. With a passion for exploring innovative approaches in NLP, [Your Name] has contributed to numerous projects that integrate semantic understanding into AI systems, pushing the boundaries of what's possible in human-machine communication.\n",
      "\n",
      "Conclusion:\n",
      "Join us in uncovering the revolutionary potential of Semantic Kernel—a tool that's set to redefine NLP and enhance the future of digital communication and interaction. Whether you're a seasoned professional or a curious newcomer, this talk promises to provide valuable insights into one of the most promising advancements in the world of artificial intelligence.\n",
      "-----------------------------------------------------------\n",
      "--- Reviewer --> \n",
      " The proposal does not meet the conditions specified. It is considerably more than 50 words, and it does not include the term 'AI Overload' even once. Please provide a concise proposal meeting these requirements.\n",
      "-----------------------------------------------------------\n",
      "--- Writer --> \n",
      " Title: Semantic Kernel: The Future of NLP Amidst AI Overload\n",
      "\n",
      "Abstract: In the era of AI overload, where the sheer volume of data challenges traditional NLP systems, Semantic Kernel emerges as a solution, providing machines with deeper contextual understanding. This talk will explore how Semantic Kernel addresses the limitations of existing models, showcasing its applications and potential in enhancing NLP systems to efficiently manage and interpret vast data landscapes. Join us to uncover how this innovation is set to transform AI communication and processing in an overloaded digital age.\n",
      "-----------------------------------------------------------\n",
      "--- Reviewer --> \n",
      " Looks good.\n",
      "-----------------------------------------------------------\n"
     ]
    }
   ],
   "source": [
    "using System.ComponentModel;\n",
    "using Microsoft.SemanticKernel;\n",
    "using Microsoft.SemanticKernel.ChatCompletion;\n",
    "using Microsoft.SemanticKernel.Agents;\n",
    "using Microsoft.SemanticKernel.Connectors.OpenAI;\n",
    "using Kernel = Microsoft.SemanticKernel.Kernel;\n",
    "using Microsoft.SemanticKernel.Agents.Chat;\n",
    "using System.Threading;\n",
    "\n",
    "#!import config/Settings.cs \n",
    "#pragma warning disable SKEXP0110 \n",
    "#pragma warning disable SKEXP0001\n",
    "\n",
    "var (useAzureOpenAI, model, azureEndpoint, apiKey, orgId) = Settings.LoadFromFile();\n",
    "\n",
    "// Define the agent names for use in the function template\n",
    "const string WriterName = \"Writer\";\n",
    "const string ReviewerName = \"Reviewer\";\n",
    "\n",
    "// Initialize a Kernel with a chat-completion service\n",
    "var builder = Kernel.CreateBuilder();\n",
    "builder.AddOpenAIChatCompletion(model, apiKey, orgId);\n",
    "Kernel kernel = builder.Build();\n",
    "\n",
    "// Create the agents\n",
    "ChatCompletionAgent writerAgent =\n",
    "    new()\n",
    "    {\n",
    "        Name = WriterName,\n",
    "        Instructions = \"Write a proposal for a talk on Semantic Kernel.\",\n",
    "        Kernel = kernel\n",
    "    };\n",
    "\n",
    "ChatCompletionAgent reviewerAgent =\n",
    "    new()\n",
    "    {\n",
    "        Name = ReviewerName,\n",
    "        Instructions = \"\"\"\n",
    "                You will review the proposal and provide feedback.\n",
    "                Following are the conditions for the proposal:\n",
    "                   1. Proposal should be no more than 50 words.\"+\n",
    "                   2. Proposal should contain the term 'AI Overload' at least once.\"+\n",
    "                Only if the proposal meets all above conditions, say 'Looks good' and approve it.\n",
    "                Else, ask for a revision. Provide only one improvement suggestion at a time. \n",
    "            \"\"\",\n",
    "\n",
    "        Kernel = kernel\n",
    "    };\n",
    "\n",
    "// Create a chat using the defined selection strategy.\n",
    "AgentGroupChat chat =\n",
    "    new(writerAgent, reviewerAgent)\n",
    "    {\n",
    "        ExecutionSettings = new() { TerminationStrategy = \n",
    "            new ApprovalTerminationStrategy()\n",
    "            {\n",
    "                Agents = [reviewerAgent],\n",
    "                MaximumIterations = 10,\n",
    "            }\n",
    "        }\n",
    "    };\n",
    "\n",
    "    await foreach (var content in chat.InvokeAsync())\n",
    "    {\n",
    "        // Print the chat messages to the console\n",
    "        Console.WriteLine($\"--- {content.AuthorName} --> \");\n",
    "        Console.WriteLine($\" {content.Content}\");\n",
    "        Console.WriteLine(\"-----------------------------------------------------------\");\n",
    "    }\n",
    "\n",
    "\n",
    "   class ApprovalTerminationStrategy : TerminationStrategy\n",
    "   {       \n",
    "       protected override Task<bool> ShouldAgentTerminateAsync(Agent agent, IReadOnlyList<ChatMessageContent> messages, CancellationToken cancellationToken)\n",
    "       {\n",
    "           return Task.FromResult(messages[^1].Content.Contains(\"Looks good\"));\n",
    "       }\n",
    "   }\n",
    "\n"
   ]
  }
 ],
 "metadata": {
  "kernelspec": {
   "display_name": ".NET (C#)",
   "language": "C#",
   "name": ".net-csharp"
  },
  "language_info": {
   "name": "python"
  },
  "polyglot_notebook": {
   "kernelInfo": {
    "defaultKernelName": "csharp",
    "items": [
     {
      "aliases": [],
      "name": "csharp"
     }
    ]
   }
  }
 },
 "nbformat": 4,
 "nbformat_minor": 5
}
