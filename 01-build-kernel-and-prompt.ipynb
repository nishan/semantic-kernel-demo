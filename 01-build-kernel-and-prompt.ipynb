{
 "cells": [
  {
   "attachments": {},
   "cell_type": "markdown",
   "metadata": {},
   "source": [
    "# Basic Loading of the Kernel"
   ]
  },
  {
   "attachments": {},
   "cell_type": "markdown",
   "metadata": {},
   "source": [
    "The Semantic Kernel SDK can be imported from the following nuget feed:"
   ]
  },
  {
   "cell_type": "code",
   "execution_count": 2,
   "metadata": {
    "dotnet_interactive": {
     "language": "csharp"
    },
    "polyglot_notebook": {
     "kernelName": "csharp"
    },
    "vscode": {
     "languageId": "polyglot-notebook"
    }
   },
   "outputs": [
    {
     "data": {
      "text/html": [
       "<div><div></div><div></div><div><strong>Installed Packages</strong><ul><li><span>Microsoft.SemanticKernel, 1.45.0</span></li><li><span>Microsoft.SemanticKernel.PromptTemplates.Handlebars, 1.45.0</span></li><li><span>Microsoft.SemanticKernel.Yaml, 1.45.0</span></li></ul></div></div>"
      ]
     },
     "metadata": {},
     "output_type": "display_data"
    }
   ],
   "source": [
    "#r \"nuget: Microsoft.SemanticKernel, 1.45.0\"\n",
    "#r \"nuget: Microsoft.SemanticKernel.PromptTemplates.Handlebars, 1.45.0\"\n",
    "#r \"nuget: Microsoft.SemanticKernel.Yaml, 1.45.0\""
   ]
  },
  {
   "attachments": {},
   "cell_type": "markdown",
   "metadata": {},
   "source": [
    "After adding the nuget package, you can instantiate the kernel:\n"
   ]
  },
  {
   "cell_type": "code",
   "execution_count": 3,
   "metadata": {
    "dotnet_interactive": {
     "language": "csharp"
    },
    "polyglot_notebook": {
     "kernelName": "csharp"
    },
    "vscode": {
     "languageId": "polyglot-notebook"
    }
   },
   "outputs": [
    {
     "name": "stdout",
     "output_type": "stream",
     "text": [
      "Why did the cat sit on the computer?\n",
      "\n",
      "Because it wanted to keep an eye on the mouse!\r\n"
     ]
    }
   ],
   "source": [
    "using Microsoft.SemanticKernel;\n",
    "using Microsoft.Extensions.Logging;\n",
    "using Microsoft.Extensions.Logging.Abstractions;\n",
    "using Microsoft.Extensions.DependencyInjection;\n",
    "using Microsoft.SemanticKernel.Connectors.OpenAI;\n",
    "using Kernel = Microsoft.SemanticKernel.Kernel;\n",
    "#!import config/Settings.cs \n",
    "\n",
    "var (useAzureOpenAI, model, azureEndpoint, apiKey, orgId) = Settings.LoadFromFile();\n",
    "\n",
    "// Inject your logger \n",
    "// see Microsoft.Extensions.Logging.ILogger @ https://learn.microsoft.com/dotnet/core/extensions/logging\n",
    "ILoggerFactory myLoggerFactory = NullLoggerFactory.Instance;\n",
    "\n",
    "var builder = Kernel.CreateBuilder();\n",
    "builder.Services.AddSingleton(myLoggerFactory); //Add logging!\n",
    "builder.AddOpenAIChatCompletion(model, apiKey, orgId);\n",
    "var kernel = builder.Build();\n",
    "\n",
    "Console.WriteLine ( await kernel.InvokePromptAsync(\"Tell me a joke about cats\") );"
   ]
  },
  {
   "cell_type": "markdown",
   "metadata": {},
   "source": [
    "Now, let us try templatized prompts."
   ]
  },
  {
   "cell_type": "code",
   "execution_count": 15,
   "metadata": {
    "polyglot_notebook": {
     "kernelName": "csharp"
    },
    "vscode": {
     "languageId": "polyglot-notebook"
    }
   },
   "outputs": [
    {
     "name": "stdout",
     "output_type": "stream",
     "text": [
      "\"People who run for fun always tell me about their 'runner's high.' I usually nod along, but I'm pretty sure I get the same feeling by successfully finding a parking spot near the store entrance. 🏃‍♂️➡️🛒 #DifferentStrokes\"\n",
      "\"Seattle's weather forecast: partly cloudy with a 100% chance of carrying an umbrella while optimistically wearing sunglasses. ☔️😎 #FourSeasonsInOneDay\"\n",
      "\"Just ate some spicy noodles so hot they made my tongue file for divorce. It even got custody of the taste buds. #SizzlingSeparation 🌶️🍜\"\n"
     ]
    }
   ],
   "source": [
    "using Microsoft.SemanticKernel;\n",
    "using Microsoft.Extensions.Logging;\n",
    "using Microsoft.Extensions.Logging.Abstractions;\n",
    "using Microsoft.Extensions.DependencyInjection;\n",
    "using Microsoft.SemanticKernel.Connectors.OpenAI;\n",
    "using Kernel = Microsoft.SemanticKernel.Kernel;\n",
    "#!import config/Settings.cs \n",
    "\n",
    "var (useAzureOpenAI, model, azureEndpoint, apiKey, orgId) = Settings.LoadFromFile();\n",
    "var builder = Kernel.CreateBuilder();\n",
    "builder.AddOpenAIChatCompletion(model, apiKey, orgId);\n",
    "var kernel = builder.Build();\n",
    "\n",
    "string promptTemplate = \"Write funny tweet about {{$topic}}\";\n",
    "\n",
    "Console.WriteLine ( await kernel.InvokePromptAsync(promptTemplate, new() { { \"topic\", \"people who run for fun\" } } ) );\n",
    "Console.WriteLine ( await kernel.InvokePromptAsync(promptTemplate, new() { { \"topic\", \"seattle weather\" } } ) );\n",
    "Console.WriteLine ( await kernel.InvokePromptAsync(promptTemplate, new() { { \"topic\", \"spicy noodels\" } } ) );\n"
   ]
  },
  {
   "cell_type": "code",
   "execution_count": null,
   "metadata": {
    "polyglot_notebook": {
     "kernelName": "csharp"
    },
    "vscode": {
     "languageId": "polyglot-notebook"
    }
   },
   "outputs": [],
   "source": [
    "public class ResponsibleAIPromptFilter() : IPromptRenderFilter\n",
    "    {        \n",
    "        /// <summary>\n",
    "        /// Method which is called asynchronously before prompt rendering.\n",
    "        /// </summary>\n",
    "        /// <param name=\"context\">Instance of <see cref=\"PromptRenderContext\"/> with prompt rendering details.</param>\n",
    "        /// <param name=\"next\">Delegate to the next filter in pipeline or prompt rendering operation itself. If it's not invoked, next filter or prompt rendering won't be invoked.</param>\n",
    "        public async Task OnPromptRenderAsync(PromptRenderContext context, Func<PromptRenderContext, Task> next)\n",
    "        {\n",
    "            if (context.Arguments.ContainsName(\"card_number\"))\n",
    "            {\n",
    "                context.Arguments[\"card_number\"] = \"**** **** **** ****\";\n",
    "            }\n",
    "\n",
    "            await next(context);\n",
    "\n",
    "            context.RenderedPrompt += \" NO SEXISM, RACISM OR OTHER BIAS/BIGOTRY.\"; // Add this line to filter out bias or bigotry\n",
    "            context.RenderedPrompt += \" NO HATE SPEECH OR HARASSMENT.\"; // Add this line to filter out hate speech or harassment\n",
    "            context.RenderedPrompt += \" NO VIOLENCE OR HARMFUL CONTENT.\"; // Add this line to filter out violence or harmful content\n",
    "            context.RenderedPrompt += \" NO ILLEGAL OR UNETHICAL CONTENT.\"; // Add this line to filter out illegal or unethical content            \n",
    "        }\n",
    "    }"
   ]
  },
  {
   "cell_type": "markdown",
   "metadata": {},
   "source": [
    "##### And now, some yaml!"
   ]
  },
  {
   "cell_type": "code",
   "execution_count": null,
   "metadata": {
    "polyglot_notebook": {
     "kernelName": "csharp"
    },
    "vscode": {
     "languageId": "polyglot-notebook"
    }
   },
   "outputs": [
    {
     "name": "stdout",
     "output_type": "stream",
     "text": [
      "Excuse\n",
      "A function that generates an excuse about an event\n",
      "I'm sorry for not submitting the report, but a squirrel stole my laptop thinking it was a deluxe acorn, and I was too busy negotiating a trade agreement involving peanuts and a tiny helmet to get it back in time!\n"
     ]
    }
   ],
   "source": [
    "using Microsoft.SemanticKernel;\n",
    "using Kernel = Microsoft.SemanticKernel.Kernel;\n",
    "using Microsoft.SemanticKernel.PromptTemplates.Handlebars;\n",
    "#!import config/Settings.cs \n",
    "\n",
    "\n",
    "var (useAzureOpenAI, model, azureEndpoint, apiKey, orgId) = Settings.LoadFromFile();\n",
    "var builder = Kernel.CreateBuilder();\n",
    "builder.AddOpenAIChatCompletion(model, apiKey, orgId);\n",
    "builder.Services.AddSingleton<IPromptRenderFilter, ResponsibleAIPromptFilter>();\n",
    "var kernel = builder.Build();\n",
    "        \n",
    "// Load prompt from resources\n",
    "StreamReader reader = new(\"resources/prompts/GenerateExcuse.yaml\", System.Text.Encoding.UTF8);\n",
    "string generateExcuseYaml = reader.ReadToEnd();\n",
    "reader.Close();\n",
    "\n",
    "KernelFunction function = kernel.CreateFunctionFromPromptYaml(generateExcuseYaml);\n",
    "\n",
    "// Invoke the prompt function and display the result\n",
    "Console.WriteLine(await kernel.InvokeAsync(function, arguments: new()\n",
    "{\n",
    "    { \"event\", \"Did not submit connect\" },\n",
    "    { \"length\", \"1\" },\n",
    "}));\n",
    "\n",
    "       "
   ]
  }
 ],
 "metadata": {
  "kernelspec": {
   "display_name": ".NET (C#)",
   "language": "C#",
   "name": ".net-csharp"
  },
  "language_info": {
   "file_extension": ".cs",
   "mimetype": "text/x-csharp",
   "name": "C#",
   "pygments_lexer": "csharp",
   "version": "11.0"
  },
  "polyglot_notebook": {
   "kernelInfo": {
    "defaultKernelName": "csharp",
    "items": [
     {
      "aliases": [],
      "name": "csharp"
     }
    ]
   }
  }
 },
 "nbformat": 4,
 "nbformat_minor": 2
}
